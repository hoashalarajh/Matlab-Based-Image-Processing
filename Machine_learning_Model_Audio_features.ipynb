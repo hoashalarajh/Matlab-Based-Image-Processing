{
  "nbformat": 4,
  "nbformat_minor": 0,
  "metadata": {
    "colab": {
      "provenance": [],
      "authorship_tag": "ABX9TyNWx/QFCnVLsa+64+KArV3R",
      "include_colab_link": true
    },
    "kernelspec": {
      "name": "python3",
      "display_name": "Python 3"
    },
    "language_info": {
      "name": "python"
    },
    "gpuClass": "standard"
  },
  "cells": [
    {
      "cell_type": "markdown",
      "metadata": {
        "id": "view-in-github",
        "colab_type": "text"
      },
      "source": [
        "<a href=\"https://colab.research.google.com/github/hoashalarajh/Matlab-Based-Image-Processing/blob/main/Machine_learning_Model_Audio_features.ipynb\" target=\"_parent\"><img src=\"https://colab.research.google.com/assets/colab-badge.svg\" alt=\"Open In Colab\"/></a>"
      ]
    },
    {
      "cell_type": "code",
      "source": [
        "import os\n",
        "import numpy as np\n",
        "import pandas as pd\n",
        "import joblib"
      ],
      "metadata": {
        "id": "BGp3HY-05kCJ"
      },
      "execution_count": 1,
      "outputs": []
    },
    {
      "cell_type": "code",
      "execution_count": 2,
      "metadata": {
        "colab": {
          "base_uri": "https://localhost:8080/"
        },
        "id": "VdwUnSdepdMI",
        "outputId": "a1cb420d-0786-4a0d-e5df-16f752643aef"
      },
      "outputs": [
        {
          "output_type": "stream",
          "name": "stdout",
          "text": [
            "Mounted at /content/drive/\n"
          ]
        }
      ],
      "source": [
        "# Mount the google dirve\n",
        "from google.colab import drive\n",
        "drive.mount('/content/drive/')"
      ]
    },
    {
      "cell_type": "code",
      "source": [
        "data_path = '/content/drive/MyDrive/emotions5/audio_features/'\n",
        "dir_list = os.listdir(data_path)\n",
        "dir_list.sort()\n",
        "\n",
        "print (f\"The total number of files is {len(dir_list)}\")"
      ],
      "metadata": {
        "colab": {
          "base_uri": "https://localhost:8080/"
        },
        "id": "YAdxi9zB5GAk",
        "outputId": "49656893-5fda-4528-caf4-2e7f25e28ad1"
      },
      "execution_count": 3,
      "outputs": [
        {
          "output_type": "stream",
          "name": "stdout",
          "text": [
            "The total number of files is 8\n"
          ]
        }
      ]
    },
    {
      "cell_type": "code",
      "source": [
        "feature_anger = pd.read_csv(\"/content/drive/MyDrive/emotions5/audio_features/My_fature_table_anger.csv\")\n",
        "feature_happy = pd.read_csv(\"/content/drive/MyDrive/emotions5/audio_features/My_fature_table_happy.csv\")\n",
        "feature_sad = pd.read_csv(\"/content/drive/MyDrive/emotions5/audio_features/My_fature_table_sad.csv\")\n",
        "feature_fear = pd.read_csv(\"/content/drive/MyDrive/emotions5/audio_features/My_fature_table_fear.csv\")\n",
        "feature_neutral = pd.read_csv(\"/content/drive/MyDrive/emotions5/audio_features/My_fature_table_neutral.csv\")\n",
        "feature_surprise = pd.read_csv(\"/content/drive/MyDrive/emotions5/audio_features/My_fature_table_surprise.csv\")"
      ],
      "metadata": {
        "id": "ujkI3adL5rjr"
      },
      "execution_count": 4,
      "outputs": []
    },
    {
      "cell_type": "code",
      "source": [
        "# getting a final feature table\n",
        "final_feature_table = pd.concat([feature_anger, feature_happy, feature_sad, feature_fear, feature_neutral,  feature_surprise], axis = 0)"
      ],
      "metadata": {
        "id": "5xmxHFH06mu5"
      },
      "execution_count": 5,
      "outputs": []
    },
    {
      "cell_type": "code",
      "source": [
        "final_feature_table"
      ],
      "metadata": {
        "colab": {
          "base_uri": "https://localhost:8080/",
          "height": 488
        },
        "id": "Dxfyy4C180yR",
        "outputId": "01c699a7-6f80-4443-8348-a89bef7637d4"
      },
      "execution_count": 6,
      "outputs": [
        {
          "output_type": "execute_result",
          "data": {
            "text/plain": [
              "      amplitude_envelope  rms_energy  zero_cross_rate  fundamental_frequency  \\\n",
              "0               0.043497    0.015402         0.007639               0.386894   \n",
              "1               0.043497    0.023387         0.015278               0.046701   \n",
              "2               0.045977    0.023459         0.015278               0.042754   \n",
              "3               0.046101    0.024409         0.013889               0.039642   \n",
              "4               0.051560    0.026481         0.013194               0.037738   \n",
              "...                  ...         ...              ...                    ...   \n",
              "2386            0.007557    0.003186         0.019444               0.468722   \n",
              "2387            0.006247    0.002964         0.016667               0.000000   \n",
              "2388            0.006247    0.002557         0.014583               0.925695   \n",
              "2389            0.004824    0.002589         0.015972               0.036845   \n",
              "2390            0.004824    0.001522         0.010417               0.196079   \n",
              "\n",
              "           mfcc1       mfcc2      mfcc3      mfcc4      mfcc5      mfcc6  \\\n",
              "0    -353.764148  131.447815  14.655576  10.321879  -3.744143  -4.836601   \n",
              "1    -523.215937  202.155133  71.665954   8.323708  -5.890504 -14.933899   \n",
              "2    -527.969459  198.245737  73.351795  15.340493   1.857628 -11.334859   \n",
              "3    -516.086484  198.007018  57.005732   9.382980   3.253131 -12.897009   \n",
              "4    -532.382726  192.398437  68.860130  14.697445   5.338385  -8.446634   \n",
              "...          ...         ...        ...        ...        ...        ...   \n",
              "2386 -670.710235  239.436683  23.687856  26.115311  15.837965  -0.983729   \n",
              "2387 -671.579270  247.251779  41.564854  43.901241  20.374572 -10.522573   \n",
              "2388 -684.194228  231.344635  26.683651  31.608150  17.963766  -7.015165   \n",
              "2389 -670.442655  236.850276  33.496793  35.311105  10.670101  -8.263827   \n",
              "2390 -586.387705  149.461203  25.689421  20.135208   5.040699  -2.080876   \n",
              "\n",
              "          mfcc7      mfcc8      mfcc9     mfcc10     mfcc11     mfcc12  \\\n",
              "0     -7.355489  -8.425206 -10.102865 -10.102865 -11.221965 -11.302649   \n",
              "1    -19.861132 -17.141890  -4.843563  -4.843563   2.429597 -25.304505   \n",
              "2    -16.863546 -15.571520 -11.473621 -11.473621  -4.241484 -28.848267   \n",
              "3    -16.490988 -16.257174 -19.929985 -19.929985  -1.135076 -19.160977   \n",
              "4    -14.885569 -10.332494  -4.989532  -4.989532   5.165431 -17.307719   \n",
              "...         ...        ...        ...        ...        ...        ...   \n",
              "2386  -2.784533 -14.485274 -15.142151 -15.142151  18.640299   6.203172   \n",
              "2387  -9.571246 -16.209996  -8.109431  -8.109431  20.323973  -1.572100   \n",
              "2388  -3.542529  -3.928370   4.882169   4.882169  17.095587   3.591197   \n",
              "2389 -15.363866 -10.279825   2.667539   2.667539  18.415334   2.311036   \n",
              "2390 -11.565495 -11.526175  -4.291839  -4.291839   2.398418   0.720351   \n",
              "\n",
              "         mfcc13  mean_amp_env  std_amp_env   emotion  \n",
              "0    -11.365566      0.001024     0.023365     anger  \n",
              "1    -40.723777     -0.000326     0.023457     anger  \n",
              "2    -37.999197     -0.000882     0.024393     anger  \n",
              "3    -32.887618      0.001156     0.026456     anger  \n",
              "4    -31.463145      0.000718     0.027971     anger  \n",
              "...         ...           ...          ...       ...  \n",
              "2386  -7.918283      0.000123     0.002961  surprise  \n",
              "2387 -12.785939      0.000092     0.002555  surprise  \n",
              "2388 -11.590350     -0.000112     0.002586  surprise  \n",
              "2389 -13.658322     -0.000024     0.002152  surprise  \n",
              "2390  -3.907843     -0.000024     0.002152  surprise  \n",
              "\n",
              "[37886 rows x 20 columns]"
            ],
            "text/html": [
              "\n",
              "  <div id=\"df-b88edb3b-caad-4218-a3db-9a92bdaa5c93\">\n",
              "    <div class=\"colab-df-container\">\n",
              "      <div>\n",
              "<style scoped>\n",
              "    .dataframe tbody tr th:only-of-type {\n",
              "        vertical-align: middle;\n",
              "    }\n",
              "\n",
              "    .dataframe tbody tr th {\n",
              "        vertical-align: top;\n",
              "    }\n",
              "\n",
              "    .dataframe thead th {\n",
              "        text-align: right;\n",
              "    }\n",
              "</style>\n",
              "<table border=\"1\" class=\"dataframe\">\n",
              "  <thead>\n",
              "    <tr style=\"text-align: right;\">\n",
              "      <th></th>\n",
              "      <th>amplitude_envelope</th>\n",
              "      <th>rms_energy</th>\n",
              "      <th>zero_cross_rate</th>\n",
              "      <th>fundamental_frequency</th>\n",
              "      <th>mfcc1</th>\n",
              "      <th>mfcc2</th>\n",
              "      <th>mfcc3</th>\n",
              "      <th>mfcc4</th>\n",
              "      <th>mfcc5</th>\n",
              "      <th>mfcc6</th>\n",
              "      <th>mfcc7</th>\n",
              "      <th>mfcc8</th>\n",
              "      <th>mfcc9</th>\n",
              "      <th>mfcc10</th>\n",
              "      <th>mfcc11</th>\n",
              "      <th>mfcc12</th>\n",
              "      <th>mfcc13</th>\n",
              "      <th>mean_amp_env</th>\n",
              "      <th>std_amp_env</th>\n",
              "      <th>emotion</th>\n",
              "    </tr>\n",
              "  </thead>\n",
              "  <tbody>\n",
              "    <tr>\n",
              "      <th>0</th>\n",
              "      <td>0.043497</td>\n",
              "      <td>0.015402</td>\n",
              "      <td>0.007639</td>\n",
              "      <td>0.386894</td>\n",
              "      <td>-353.764148</td>\n",
              "      <td>131.447815</td>\n",
              "      <td>14.655576</td>\n",
              "      <td>10.321879</td>\n",
              "      <td>-3.744143</td>\n",
              "      <td>-4.836601</td>\n",
              "      <td>-7.355489</td>\n",
              "      <td>-8.425206</td>\n",
              "      <td>-10.102865</td>\n",
              "      <td>-10.102865</td>\n",
              "      <td>-11.221965</td>\n",
              "      <td>-11.302649</td>\n",
              "      <td>-11.365566</td>\n",
              "      <td>0.001024</td>\n",
              "      <td>0.023365</td>\n",
              "      <td>anger</td>\n",
              "    </tr>\n",
              "    <tr>\n",
              "      <th>1</th>\n",
              "      <td>0.043497</td>\n",
              "      <td>0.023387</td>\n",
              "      <td>0.015278</td>\n",
              "      <td>0.046701</td>\n",
              "      <td>-523.215937</td>\n",
              "      <td>202.155133</td>\n",
              "      <td>71.665954</td>\n",
              "      <td>8.323708</td>\n",
              "      <td>-5.890504</td>\n",
              "      <td>-14.933899</td>\n",
              "      <td>-19.861132</td>\n",
              "      <td>-17.141890</td>\n",
              "      <td>-4.843563</td>\n",
              "      <td>-4.843563</td>\n",
              "      <td>2.429597</td>\n",
              "      <td>-25.304505</td>\n",
              "      <td>-40.723777</td>\n",
              "      <td>-0.000326</td>\n",
              "      <td>0.023457</td>\n",
              "      <td>anger</td>\n",
              "    </tr>\n",
              "    <tr>\n",
              "      <th>2</th>\n",
              "      <td>0.045977</td>\n",
              "      <td>0.023459</td>\n",
              "      <td>0.015278</td>\n",
              "      <td>0.042754</td>\n",
              "      <td>-527.969459</td>\n",
              "      <td>198.245737</td>\n",
              "      <td>73.351795</td>\n",
              "      <td>15.340493</td>\n",
              "      <td>1.857628</td>\n",
              "      <td>-11.334859</td>\n",
              "      <td>-16.863546</td>\n",
              "      <td>-15.571520</td>\n",
              "      <td>-11.473621</td>\n",
              "      <td>-11.473621</td>\n",
              "      <td>-4.241484</td>\n",
              "      <td>-28.848267</td>\n",
              "      <td>-37.999197</td>\n",
              "      <td>-0.000882</td>\n",
              "      <td>0.024393</td>\n",
              "      <td>anger</td>\n",
              "    </tr>\n",
              "    <tr>\n",
              "      <th>3</th>\n",
              "      <td>0.046101</td>\n",
              "      <td>0.024409</td>\n",
              "      <td>0.013889</td>\n",
              "      <td>0.039642</td>\n",
              "      <td>-516.086484</td>\n",
              "      <td>198.007018</td>\n",
              "      <td>57.005732</td>\n",
              "      <td>9.382980</td>\n",
              "      <td>3.253131</td>\n",
              "      <td>-12.897009</td>\n",
              "      <td>-16.490988</td>\n",
              "      <td>-16.257174</td>\n",
              "      <td>-19.929985</td>\n",
              "      <td>-19.929985</td>\n",
              "      <td>-1.135076</td>\n",
              "      <td>-19.160977</td>\n",
              "      <td>-32.887618</td>\n",
              "      <td>0.001156</td>\n",
              "      <td>0.026456</td>\n",
              "      <td>anger</td>\n",
              "    </tr>\n",
              "    <tr>\n",
              "      <th>4</th>\n",
              "      <td>0.051560</td>\n",
              "      <td>0.026481</td>\n",
              "      <td>0.013194</td>\n",
              "      <td>0.037738</td>\n",
              "      <td>-532.382726</td>\n",
              "      <td>192.398437</td>\n",
              "      <td>68.860130</td>\n",
              "      <td>14.697445</td>\n",
              "      <td>5.338385</td>\n",
              "      <td>-8.446634</td>\n",
              "      <td>-14.885569</td>\n",
              "      <td>-10.332494</td>\n",
              "      <td>-4.989532</td>\n",
              "      <td>-4.989532</td>\n",
              "      <td>5.165431</td>\n",
              "      <td>-17.307719</td>\n",
              "      <td>-31.463145</td>\n",
              "      <td>0.000718</td>\n",
              "      <td>0.027971</td>\n",
              "      <td>anger</td>\n",
              "    </tr>\n",
              "    <tr>\n",
              "      <th>...</th>\n",
              "      <td>...</td>\n",
              "      <td>...</td>\n",
              "      <td>...</td>\n",
              "      <td>...</td>\n",
              "      <td>...</td>\n",
              "      <td>...</td>\n",
              "      <td>...</td>\n",
              "      <td>...</td>\n",
              "      <td>...</td>\n",
              "      <td>...</td>\n",
              "      <td>...</td>\n",
              "      <td>...</td>\n",
              "      <td>...</td>\n",
              "      <td>...</td>\n",
              "      <td>...</td>\n",
              "      <td>...</td>\n",
              "      <td>...</td>\n",
              "      <td>...</td>\n",
              "      <td>...</td>\n",
              "      <td>...</td>\n",
              "    </tr>\n",
              "    <tr>\n",
              "      <th>2386</th>\n",
              "      <td>0.007557</td>\n",
              "      <td>0.003186</td>\n",
              "      <td>0.019444</td>\n",
              "      <td>0.468722</td>\n",
              "      <td>-670.710235</td>\n",
              "      <td>239.436683</td>\n",
              "      <td>23.687856</td>\n",
              "      <td>26.115311</td>\n",
              "      <td>15.837965</td>\n",
              "      <td>-0.983729</td>\n",
              "      <td>-2.784533</td>\n",
              "      <td>-14.485274</td>\n",
              "      <td>-15.142151</td>\n",
              "      <td>-15.142151</td>\n",
              "      <td>18.640299</td>\n",
              "      <td>6.203172</td>\n",
              "      <td>-7.918283</td>\n",
              "      <td>0.000123</td>\n",
              "      <td>0.002961</td>\n",
              "      <td>surprise</td>\n",
              "    </tr>\n",
              "    <tr>\n",
              "      <th>2387</th>\n",
              "      <td>0.006247</td>\n",
              "      <td>0.002964</td>\n",
              "      <td>0.016667</td>\n",
              "      <td>0.000000</td>\n",
              "      <td>-671.579270</td>\n",
              "      <td>247.251779</td>\n",
              "      <td>41.564854</td>\n",
              "      <td>43.901241</td>\n",
              "      <td>20.374572</td>\n",
              "      <td>-10.522573</td>\n",
              "      <td>-9.571246</td>\n",
              "      <td>-16.209996</td>\n",
              "      <td>-8.109431</td>\n",
              "      <td>-8.109431</td>\n",
              "      <td>20.323973</td>\n",
              "      <td>-1.572100</td>\n",
              "      <td>-12.785939</td>\n",
              "      <td>0.000092</td>\n",
              "      <td>0.002555</td>\n",
              "      <td>surprise</td>\n",
              "    </tr>\n",
              "    <tr>\n",
              "      <th>2388</th>\n",
              "      <td>0.006247</td>\n",
              "      <td>0.002557</td>\n",
              "      <td>0.014583</td>\n",
              "      <td>0.925695</td>\n",
              "      <td>-684.194228</td>\n",
              "      <td>231.344635</td>\n",
              "      <td>26.683651</td>\n",
              "      <td>31.608150</td>\n",
              "      <td>17.963766</td>\n",
              "      <td>-7.015165</td>\n",
              "      <td>-3.542529</td>\n",
              "      <td>-3.928370</td>\n",
              "      <td>4.882169</td>\n",
              "      <td>4.882169</td>\n",
              "      <td>17.095587</td>\n",
              "      <td>3.591197</td>\n",
              "      <td>-11.590350</td>\n",
              "      <td>-0.000112</td>\n",
              "      <td>0.002586</td>\n",
              "      <td>surprise</td>\n",
              "    </tr>\n",
              "    <tr>\n",
              "      <th>2389</th>\n",
              "      <td>0.004824</td>\n",
              "      <td>0.002589</td>\n",
              "      <td>0.015972</td>\n",
              "      <td>0.036845</td>\n",
              "      <td>-670.442655</td>\n",
              "      <td>236.850276</td>\n",
              "      <td>33.496793</td>\n",
              "      <td>35.311105</td>\n",
              "      <td>10.670101</td>\n",
              "      <td>-8.263827</td>\n",
              "      <td>-15.363866</td>\n",
              "      <td>-10.279825</td>\n",
              "      <td>2.667539</td>\n",
              "      <td>2.667539</td>\n",
              "      <td>18.415334</td>\n",
              "      <td>2.311036</td>\n",
              "      <td>-13.658322</td>\n",
              "      <td>-0.000024</td>\n",
              "      <td>0.002152</td>\n",
              "      <td>surprise</td>\n",
              "    </tr>\n",
              "    <tr>\n",
              "      <th>2390</th>\n",
              "      <td>0.004824</td>\n",
              "      <td>0.001522</td>\n",
              "      <td>0.010417</td>\n",
              "      <td>0.196079</td>\n",
              "      <td>-586.387705</td>\n",
              "      <td>149.461203</td>\n",
              "      <td>25.689421</td>\n",
              "      <td>20.135208</td>\n",
              "      <td>5.040699</td>\n",
              "      <td>-2.080876</td>\n",
              "      <td>-11.565495</td>\n",
              "      <td>-11.526175</td>\n",
              "      <td>-4.291839</td>\n",
              "      <td>-4.291839</td>\n",
              "      <td>2.398418</td>\n",
              "      <td>0.720351</td>\n",
              "      <td>-3.907843</td>\n",
              "      <td>-0.000024</td>\n",
              "      <td>0.002152</td>\n",
              "      <td>surprise</td>\n",
              "    </tr>\n",
              "  </tbody>\n",
              "</table>\n",
              "<p>37886 rows × 20 columns</p>\n",
              "</div>\n",
              "      <button class=\"colab-df-convert\" onclick=\"convertToInteractive('df-b88edb3b-caad-4218-a3db-9a92bdaa5c93')\"\n",
              "              title=\"Convert this dataframe to an interactive table.\"\n",
              "              style=\"display:none;\">\n",
              "        \n",
              "  <svg xmlns=\"http://www.w3.org/2000/svg\" height=\"24px\"viewBox=\"0 0 24 24\"\n",
              "       width=\"24px\">\n",
              "    <path d=\"M0 0h24v24H0V0z\" fill=\"none\"/>\n",
              "    <path d=\"M18.56 5.44l.94 2.06.94-2.06 2.06-.94-2.06-.94-.94-2.06-.94 2.06-2.06.94zm-11 1L8.5 8.5l.94-2.06 2.06-.94-2.06-.94L8.5 2.5l-.94 2.06-2.06.94zm10 10l.94 2.06.94-2.06 2.06-.94-2.06-.94-.94-2.06-.94 2.06-2.06.94z\"/><path d=\"M17.41 7.96l-1.37-1.37c-.4-.4-.92-.59-1.43-.59-.52 0-1.04.2-1.43.59L10.3 9.45l-7.72 7.72c-.78.78-.78 2.05 0 2.83L4 21.41c.39.39.9.59 1.41.59.51 0 1.02-.2 1.41-.59l7.78-7.78 2.81-2.81c.8-.78.8-2.07 0-2.86zM5.41 20L4 18.59l7.72-7.72 1.47 1.35L5.41 20z\"/>\n",
              "  </svg>\n",
              "      </button>\n",
              "      \n",
              "  <style>\n",
              "    .colab-df-container {\n",
              "      display:flex;\n",
              "      flex-wrap:wrap;\n",
              "      gap: 12px;\n",
              "    }\n",
              "\n",
              "    .colab-df-convert {\n",
              "      background-color: #E8F0FE;\n",
              "      border: none;\n",
              "      border-radius: 50%;\n",
              "      cursor: pointer;\n",
              "      display: none;\n",
              "      fill: #1967D2;\n",
              "      height: 32px;\n",
              "      padding: 0 0 0 0;\n",
              "      width: 32px;\n",
              "    }\n",
              "\n",
              "    .colab-df-convert:hover {\n",
              "      background-color: #E2EBFA;\n",
              "      box-shadow: 0px 1px 2px rgba(60, 64, 67, 0.3), 0px 1px 3px 1px rgba(60, 64, 67, 0.15);\n",
              "      fill: #174EA6;\n",
              "    }\n",
              "\n",
              "    [theme=dark] .colab-df-convert {\n",
              "      background-color: #3B4455;\n",
              "      fill: #D2E3FC;\n",
              "    }\n",
              "\n",
              "    [theme=dark] .colab-df-convert:hover {\n",
              "      background-color: #434B5C;\n",
              "      box-shadow: 0px 1px 3px 1px rgba(0, 0, 0, 0.15);\n",
              "      filter: drop-shadow(0px 1px 2px rgba(0, 0, 0, 0.3));\n",
              "      fill: #FFFFFF;\n",
              "    }\n",
              "  </style>\n",
              "\n",
              "      <script>\n",
              "        const buttonEl =\n",
              "          document.querySelector('#df-b88edb3b-caad-4218-a3db-9a92bdaa5c93 button.colab-df-convert');\n",
              "        buttonEl.style.display =\n",
              "          google.colab.kernel.accessAllowed ? 'block' : 'none';\n",
              "\n",
              "        async function convertToInteractive(key) {\n",
              "          const element = document.querySelector('#df-b88edb3b-caad-4218-a3db-9a92bdaa5c93');\n",
              "          const dataTable =\n",
              "            await google.colab.kernel.invokeFunction('convertToInteractive',\n",
              "                                                     [key], {});\n",
              "          if (!dataTable) return;\n",
              "\n",
              "          const docLinkHtml = 'Like what you see? Visit the ' +\n",
              "            '<a target=\"_blank\" href=https://colab.research.google.com/notebooks/data_table.ipynb>data table notebook</a>'\n",
              "            + ' to learn more about interactive tables.';\n",
              "          element.innerHTML = '';\n",
              "          dataTable['output_type'] = 'display_data';\n",
              "          await google.colab.output.renderOutput(dataTable, element);\n",
              "          const docLink = document.createElement('div');\n",
              "          docLink.innerHTML = docLinkHtml;\n",
              "          element.appendChild(docLink);\n",
              "        }\n",
              "      </script>\n",
              "    </div>\n",
              "  </div>\n",
              "  "
            ]
          },
          "metadata": {},
          "execution_count": 6
        }
      ]
    },
    {
      "cell_type": "code",
      "source": [
        "# visualizing feature table\n",
        "final_feature_table.head(10)"
      ],
      "metadata": {
        "colab": {
          "base_uri": "https://localhost:8080/",
          "height": 427
        },
        "id": "LzRmro4N7Ras",
        "outputId": "813c2ac8-2871-4c23-f37a-d9fccd8f42fb"
      },
      "execution_count": 7,
      "outputs": [
        {
          "output_type": "execute_result",
          "data": {
            "text/plain": [
              "   amplitude_envelope  rms_energy  zero_cross_rate  fundamental_frequency  \\\n",
              "0            0.043497    0.015402         0.007639               0.386894   \n",
              "1            0.043497    0.023387         0.015278               0.046701   \n",
              "2            0.045977    0.023459         0.015278               0.042754   \n",
              "3            0.046101    0.024409         0.013889               0.039642   \n",
              "4            0.051560    0.026481         0.013194               0.037738   \n",
              "5            0.086327    0.027980         0.013194               0.037329   \n",
              "6            0.115245    0.040061         0.013194               0.037902   \n",
              "7            0.115245    0.053320         0.017361               0.038377   \n",
              "8            0.114153    0.052470         0.025000               0.041895   \n",
              "9            0.045810    0.036726         0.029861               0.118187   \n",
              "\n",
              "        mfcc1       mfcc2      mfcc3      mfcc4      mfcc5      mfcc6  \\\n",
              "0 -353.764148  131.447815  14.655576  10.321879  -3.744143  -4.836601   \n",
              "1 -523.215937  202.155133  71.665954   8.323708  -5.890504 -14.933899   \n",
              "2 -527.969459  198.245737  73.351795  15.340493   1.857628 -11.334859   \n",
              "3 -516.086484  198.007018  57.005732   9.382980   3.253131 -12.897009   \n",
              "4 -532.382726  192.398437  68.860130  14.697445   5.338385  -8.446634   \n",
              "5 -524.801965  195.273764  68.726192  17.120437  -4.842269 -23.027624   \n",
              "6 -502.982181  197.000086  58.051505  26.210208  -1.399537 -15.733914   \n",
              "7 -453.104590  217.934521  44.942511  34.879192  -6.882855 -30.745361   \n",
              "8 -445.843311  213.686156  20.131440  15.679920 -16.280668 -50.130321   \n",
              "9 -489.249363  185.046746  13.991466  -4.844249 -24.982756 -43.264835   \n",
              "\n",
              "       mfcc7      mfcc8      mfcc9     mfcc10     mfcc11     mfcc12  \\\n",
              "0  -7.355489  -8.425206 -10.102865 -10.102865 -11.221965 -11.302649   \n",
              "1 -19.861132 -17.141890  -4.843563  -4.843563   2.429597 -25.304505   \n",
              "2 -16.863546 -15.571520 -11.473621 -11.473621  -4.241484 -28.848267   \n",
              "3 -16.490988 -16.257174 -19.929985 -19.929985  -1.135076 -19.160977   \n",
              "4 -14.885569 -10.332494  -4.989532  -4.989532   5.165431 -17.307719   \n",
              "5 -15.944977  -8.802024 -12.027971 -12.027971   1.268682 -16.637941   \n",
              "6  -2.682683  -3.262735  -7.028219  -7.028219 -11.310648 -16.856593   \n",
              "7  -6.523309 -10.457334 -12.971785 -12.971785  -7.761780  -1.469325   \n",
              "8 -26.591920 -19.830499 -15.431284 -15.431284 -13.546306   1.440594   \n",
              "9 -19.632532 -16.031246 -14.197344 -14.197344   0.148065   5.291001   \n",
              "\n",
              "      mfcc13  mean_amp_env  std_amp_env emotion  \n",
              "0 -11.365566      0.001024     0.023365   anger  \n",
              "1 -40.723777     -0.000326     0.023457   anger  \n",
              "2 -37.999197     -0.000882     0.024393   anger  \n",
              "3 -32.887618      0.001156     0.026456   anger  \n",
              "4 -31.463145      0.000718     0.027971   anger  \n",
              "5 -26.945249     -0.001634     0.040028   anger  \n",
              "6 -34.215015     -0.001267     0.053305   anger  \n",
              "7 -29.405770      0.001183     0.052457   anger  \n",
              "8  -1.595794      0.000925     0.036714   anger  \n",
              "9   7.780097     -0.000002     0.022824   anger  "
            ],
            "text/html": [
              "\n",
              "  <div id=\"df-c6a8341d-9927-4d75-b0d9-d9480e0bb449\">\n",
              "    <div class=\"colab-df-container\">\n",
              "      <div>\n",
              "<style scoped>\n",
              "    .dataframe tbody tr th:only-of-type {\n",
              "        vertical-align: middle;\n",
              "    }\n",
              "\n",
              "    .dataframe tbody tr th {\n",
              "        vertical-align: top;\n",
              "    }\n",
              "\n",
              "    .dataframe thead th {\n",
              "        text-align: right;\n",
              "    }\n",
              "</style>\n",
              "<table border=\"1\" class=\"dataframe\">\n",
              "  <thead>\n",
              "    <tr style=\"text-align: right;\">\n",
              "      <th></th>\n",
              "      <th>amplitude_envelope</th>\n",
              "      <th>rms_energy</th>\n",
              "      <th>zero_cross_rate</th>\n",
              "      <th>fundamental_frequency</th>\n",
              "      <th>mfcc1</th>\n",
              "      <th>mfcc2</th>\n",
              "      <th>mfcc3</th>\n",
              "      <th>mfcc4</th>\n",
              "      <th>mfcc5</th>\n",
              "      <th>mfcc6</th>\n",
              "      <th>mfcc7</th>\n",
              "      <th>mfcc8</th>\n",
              "      <th>mfcc9</th>\n",
              "      <th>mfcc10</th>\n",
              "      <th>mfcc11</th>\n",
              "      <th>mfcc12</th>\n",
              "      <th>mfcc13</th>\n",
              "      <th>mean_amp_env</th>\n",
              "      <th>std_amp_env</th>\n",
              "      <th>emotion</th>\n",
              "    </tr>\n",
              "  </thead>\n",
              "  <tbody>\n",
              "    <tr>\n",
              "      <th>0</th>\n",
              "      <td>0.043497</td>\n",
              "      <td>0.015402</td>\n",
              "      <td>0.007639</td>\n",
              "      <td>0.386894</td>\n",
              "      <td>-353.764148</td>\n",
              "      <td>131.447815</td>\n",
              "      <td>14.655576</td>\n",
              "      <td>10.321879</td>\n",
              "      <td>-3.744143</td>\n",
              "      <td>-4.836601</td>\n",
              "      <td>-7.355489</td>\n",
              "      <td>-8.425206</td>\n",
              "      <td>-10.102865</td>\n",
              "      <td>-10.102865</td>\n",
              "      <td>-11.221965</td>\n",
              "      <td>-11.302649</td>\n",
              "      <td>-11.365566</td>\n",
              "      <td>0.001024</td>\n",
              "      <td>0.023365</td>\n",
              "      <td>anger</td>\n",
              "    </tr>\n",
              "    <tr>\n",
              "      <th>1</th>\n",
              "      <td>0.043497</td>\n",
              "      <td>0.023387</td>\n",
              "      <td>0.015278</td>\n",
              "      <td>0.046701</td>\n",
              "      <td>-523.215937</td>\n",
              "      <td>202.155133</td>\n",
              "      <td>71.665954</td>\n",
              "      <td>8.323708</td>\n",
              "      <td>-5.890504</td>\n",
              "      <td>-14.933899</td>\n",
              "      <td>-19.861132</td>\n",
              "      <td>-17.141890</td>\n",
              "      <td>-4.843563</td>\n",
              "      <td>-4.843563</td>\n",
              "      <td>2.429597</td>\n",
              "      <td>-25.304505</td>\n",
              "      <td>-40.723777</td>\n",
              "      <td>-0.000326</td>\n",
              "      <td>0.023457</td>\n",
              "      <td>anger</td>\n",
              "    </tr>\n",
              "    <tr>\n",
              "      <th>2</th>\n",
              "      <td>0.045977</td>\n",
              "      <td>0.023459</td>\n",
              "      <td>0.015278</td>\n",
              "      <td>0.042754</td>\n",
              "      <td>-527.969459</td>\n",
              "      <td>198.245737</td>\n",
              "      <td>73.351795</td>\n",
              "      <td>15.340493</td>\n",
              "      <td>1.857628</td>\n",
              "      <td>-11.334859</td>\n",
              "      <td>-16.863546</td>\n",
              "      <td>-15.571520</td>\n",
              "      <td>-11.473621</td>\n",
              "      <td>-11.473621</td>\n",
              "      <td>-4.241484</td>\n",
              "      <td>-28.848267</td>\n",
              "      <td>-37.999197</td>\n",
              "      <td>-0.000882</td>\n",
              "      <td>0.024393</td>\n",
              "      <td>anger</td>\n",
              "    </tr>\n",
              "    <tr>\n",
              "      <th>3</th>\n",
              "      <td>0.046101</td>\n",
              "      <td>0.024409</td>\n",
              "      <td>0.013889</td>\n",
              "      <td>0.039642</td>\n",
              "      <td>-516.086484</td>\n",
              "      <td>198.007018</td>\n",
              "      <td>57.005732</td>\n",
              "      <td>9.382980</td>\n",
              "      <td>3.253131</td>\n",
              "      <td>-12.897009</td>\n",
              "      <td>-16.490988</td>\n",
              "      <td>-16.257174</td>\n",
              "      <td>-19.929985</td>\n",
              "      <td>-19.929985</td>\n",
              "      <td>-1.135076</td>\n",
              "      <td>-19.160977</td>\n",
              "      <td>-32.887618</td>\n",
              "      <td>0.001156</td>\n",
              "      <td>0.026456</td>\n",
              "      <td>anger</td>\n",
              "    </tr>\n",
              "    <tr>\n",
              "      <th>4</th>\n",
              "      <td>0.051560</td>\n",
              "      <td>0.026481</td>\n",
              "      <td>0.013194</td>\n",
              "      <td>0.037738</td>\n",
              "      <td>-532.382726</td>\n",
              "      <td>192.398437</td>\n",
              "      <td>68.860130</td>\n",
              "      <td>14.697445</td>\n",
              "      <td>5.338385</td>\n",
              "      <td>-8.446634</td>\n",
              "      <td>-14.885569</td>\n",
              "      <td>-10.332494</td>\n",
              "      <td>-4.989532</td>\n",
              "      <td>-4.989532</td>\n",
              "      <td>5.165431</td>\n",
              "      <td>-17.307719</td>\n",
              "      <td>-31.463145</td>\n",
              "      <td>0.000718</td>\n",
              "      <td>0.027971</td>\n",
              "      <td>anger</td>\n",
              "    </tr>\n",
              "    <tr>\n",
              "      <th>5</th>\n",
              "      <td>0.086327</td>\n",
              "      <td>0.027980</td>\n",
              "      <td>0.013194</td>\n",
              "      <td>0.037329</td>\n",
              "      <td>-524.801965</td>\n",
              "      <td>195.273764</td>\n",
              "      <td>68.726192</td>\n",
              "      <td>17.120437</td>\n",
              "      <td>-4.842269</td>\n",
              "      <td>-23.027624</td>\n",
              "      <td>-15.944977</td>\n",
              "      <td>-8.802024</td>\n",
              "      <td>-12.027971</td>\n",
              "      <td>-12.027971</td>\n",
              "      <td>1.268682</td>\n",
              "      <td>-16.637941</td>\n",
              "      <td>-26.945249</td>\n",
              "      <td>-0.001634</td>\n",
              "      <td>0.040028</td>\n",
              "      <td>anger</td>\n",
              "    </tr>\n",
              "    <tr>\n",
              "      <th>6</th>\n",
              "      <td>0.115245</td>\n",
              "      <td>0.040061</td>\n",
              "      <td>0.013194</td>\n",
              "      <td>0.037902</td>\n",
              "      <td>-502.982181</td>\n",
              "      <td>197.000086</td>\n",
              "      <td>58.051505</td>\n",
              "      <td>26.210208</td>\n",
              "      <td>-1.399537</td>\n",
              "      <td>-15.733914</td>\n",
              "      <td>-2.682683</td>\n",
              "      <td>-3.262735</td>\n",
              "      <td>-7.028219</td>\n",
              "      <td>-7.028219</td>\n",
              "      <td>-11.310648</td>\n",
              "      <td>-16.856593</td>\n",
              "      <td>-34.215015</td>\n",
              "      <td>-0.001267</td>\n",
              "      <td>0.053305</td>\n",
              "      <td>anger</td>\n",
              "    </tr>\n",
              "    <tr>\n",
              "      <th>7</th>\n",
              "      <td>0.115245</td>\n",
              "      <td>0.053320</td>\n",
              "      <td>0.017361</td>\n",
              "      <td>0.038377</td>\n",
              "      <td>-453.104590</td>\n",
              "      <td>217.934521</td>\n",
              "      <td>44.942511</td>\n",
              "      <td>34.879192</td>\n",
              "      <td>-6.882855</td>\n",
              "      <td>-30.745361</td>\n",
              "      <td>-6.523309</td>\n",
              "      <td>-10.457334</td>\n",
              "      <td>-12.971785</td>\n",
              "      <td>-12.971785</td>\n",
              "      <td>-7.761780</td>\n",
              "      <td>-1.469325</td>\n",
              "      <td>-29.405770</td>\n",
              "      <td>0.001183</td>\n",
              "      <td>0.052457</td>\n",
              "      <td>anger</td>\n",
              "    </tr>\n",
              "    <tr>\n",
              "      <th>8</th>\n",
              "      <td>0.114153</td>\n",
              "      <td>0.052470</td>\n",
              "      <td>0.025000</td>\n",
              "      <td>0.041895</td>\n",
              "      <td>-445.843311</td>\n",
              "      <td>213.686156</td>\n",
              "      <td>20.131440</td>\n",
              "      <td>15.679920</td>\n",
              "      <td>-16.280668</td>\n",
              "      <td>-50.130321</td>\n",
              "      <td>-26.591920</td>\n",
              "      <td>-19.830499</td>\n",
              "      <td>-15.431284</td>\n",
              "      <td>-15.431284</td>\n",
              "      <td>-13.546306</td>\n",
              "      <td>1.440594</td>\n",
              "      <td>-1.595794</td>\n",
              "      <td>0.000925</td>\n",
              "      <td>0.036714</td>\n",
              "      <td>anger</td>\n",
              "    </tr>\n",
              "    <tr>\n",
              "      <th>9</th>\n",
              "      <td>0.045810</td>\n",
              "      <td>0.036726</td>\n",
              "      <td>0.029861</td>\n",
              "      <td>0.118187</td>\n",
              "      <td>-489.249363</td>\n",
              "      <td>185.046746</td>\n",
              "      <td>13.991466</td>\n",
              "      <td>-4.844249</td>\n",
              "      <td>-24.982756</td>\n",
              "      <td>-43.264835</td>\n",
              "      <td>-19.632532</td>\n",
              "      <td>-16.031246</td>\n",
              "      <td>-14.197344</td>\n",
              "      <td>-14.197344</td>\n",
              "      <td>0.148065</td>\n",
              "      <td>5.291001</td>\n",
              "      <td>7.780097</td>\n",
              "      <td>-0.000002</td>\n",
              "      <td>0.022824</td>\n",
              "      <td>anger</td>\n",
              "    </tr>\n",
              "  </tbody>\n",
              "</table>\n",
              "</div>\n",
              "      <button class=\"colab-df-convert\" onclick=\"convertToInteractive('df-c6a8341d-9927-4d75-b0d9-d9480e0bb449')\"\n",
              "              title=\"Convert this dataframe to an interactive table.\"\n",
              "              style=\"display:none;\">\n",
              "        \n",
              "  <svg xmlns=\"http://www.w3.org/2000/svg\" height=\"24px\"viewBox=\"0 0 24 24\"\n",
              "       width=\"24px\">\n",
              "    <path d=\"M0 0h24v24H0V0z\" fill=\"none\"/>\n",
              "    <path d=\"M18.56 5.44l.94 2.06.94-2.06 2.06-.94-2.06-.94-.94-2.06-.94 2.06-2.06.94zm-11 1L8.5 8.5l.94-2.06 2.06-.94-2.06-.94L8.5 2.5l-.94 2.06-2.06.94zm10 10l.94 2.06.94-2.06 2.06-.94-2.06-.94-.94-2.06-.94 2.06-2.06.94z\"/><path d=\"M17.41 7.96l-1.37-1.37c-.4-.4-.92-.59-1.43-.59-.52 0-1.04.2-1.43.59L10.3 9.45l-7.72 7.72c-.78.78-.78 2.05 0 2.83L4 21.41c.39.39.9.59 1.41.59.51 0 1.02-.2 1.41-.59l7.78-7.78 2.81-2.81c.8-.78.8-2.07 0-2.86zM5.41 20L4 18.59l7.72-7.72 1.47 1.35L5.41 20z\"/>\n",
              "  </svg>\n",
              "      </button>\n",
              "      \n",
              "  <style>\n",
              "    .colab-df-container {\n",
              "      display:flex;\n",
              "      flex-wrap:wrap;\n",
              "      gap: 12px;\n",
              "    }\n",
              "\n",
              "    .colab-df-convert {\n",
              "      background-color: #E8F0FE;\n",
              "      border: none;\n",
              "      border-radius: 50%;\n",
              "      cursor: pointer;\n",
              "      display: none;\n",
              "      fill: #1967D2;\n",
              "      height: 32px;\n",
              "      padding: 0 0 0 0;\n",
              "      width: 32px;\n",
              "    }\n",
              "\n",
              "    .colab-df-convert:hover {\n",
              "      background-color: #E2EBFA;\n",
              "      box-shadow: 0px 1px 2px rgba(60, 64, 67, 0.3), 0px 1px 3px 1px rgba(60, 64, 67, 0.15);\n",
              "      fill: #174EA6;\n",
              "    }\n",
              "\n",
              "    [theme=dark] .colab-df-convert {\n",
              "      background-color: #3B4455;\n",
              "      fill: #D2E3FC;\n",
              "    }\n",
              "\n",
              "    [theme=dark] .colab-df-convert:hover {\n",
              "      background-color: #434B5C;\n",
              "      box-shadow: 0px 1px 3px 1px rgba(0, 0, 0, 0.15);\n",
              "      filter: drop-shadow(0px 1px 2px rgba(0, 0, 0, 0.3));\n",
              "      fill: #FFFFFF;\n",
              "    }\n",
              "  </style>\n",
              "\n",
              "      <script>\n",
              "        const buttonEl =\n",
              "          document.querySelector('#df-c6a8341d-9927-4d75-b0d9-d9480e0bb449 button.colab-df-convert');\n",
              "        buttonEl.style.display =\n",
              "          google.colab.kernel.accessAllowed ? 'block' : 'none';\n",
              "\n",
              "        async function convertToInteractive(key) {\n",
              "          const element = document.querySelector('#df-c6a8341d-9927-4d75-b0d9-d9480e0bb449');\n",
              "          const dataTable =\n",
              "            await google.colab.kernel.invokeFunction('convertToInteractive',\n",
              "                                                     [key], {});\n",
              "          if (!dataTable) return;\n",
              "\n",
              "          const docLinkHtml = 'Like what you see? Visit the ' +\n",
              "            '<a target=\"_blank\" href=https://colab.research.google.com/notebooks/data_table.ipynb>data table notebook</a>'\n",
              "            + ' to learn more about interactive tables.';\n",
              "          element.innerHTML = '';\n",
              "          dataTable['output_type'] = 'display_data';\n",
              "          await google.colab.output.renderOutput(dataTable, element);\n",
              "          const docLink = document.createElement('div');\n",
              "          docLink.innerHTML = docLinkHtml;\n",
              "          element.appendChild(docLink);\n",
              "        }\n",
              "      </script>\n",
              "    </div>\n",
              "  </div>\n",
              "  "
            ]
          },
          "metadata": {},
          "execution_count": 7
        }
      ]
    },
    {
      "cell_type": "code",
      "source": [
        "# describing feature table\n",
        "final_feature_table.describe()"
      ],
      "metadata": {
        "colab": {
          "base_uri": "https://localhost:8080/",
          "height": 364
        },
        "id": "gWGclwjL77GR",
        "outputId": "6370bb89-492e-4ed7-ec01-c5c348d71665"
      },
      "execution_count": 8,
      "outputs": [
        {
          "output_type": "execute_result",
          "data": {
            "text/plain": [
              "       amplitude_envelope    rms_energy  zero_cross_rate  \\\n",
              "count        37886.000000  37886.000000     37886.000000   \n",
              "mean             0.069594      0.031254         0.019004   \n",
              "std              0.078757      0.035519         0.013823   \n",
              "min             -0.025433      0.000018         0.000000   \n",
              "25%              0.021244      0.009253         0.011111   \n",
              "50%              0.043545      0.019281         0.015972   \n",
              "75%              0.088326      0.039458         0.023611   \n",
              "max              0.787940      0.347764         0.254861   \n",
              "\n",
              "       fundamental_frequency         mfcc1         mfcc2         mfcc3  \\\n",
              "count           37886.000000  37886.000000  37886.000000  37886.000000   \n",
              "mean                0.075708   -506.688769    179.680109     54.608581   \n",
              "std                 0.152760     80.452283     40.050458     36.521681   \n",
              "min                 0.000000   -798.133954      0.000000   -102.750671   \n",
              "25%                 0.005689   -564.931278    152.221057     30.862197   \n",
              "50%                 0.022340   -510.255621    181.430102     60.370433   \n",
              "75%                 0.068890   -449.524817    209.349541     82.070110   \n",
              "max                 1.000000   -154.780427    301.366263    142.302260   \n",
              "\n",
              "              mfcc4         mfcc5         mfcc6         mfcc7         mfcc8  \\\n",
              "count  37886.000000  37886.000000  37886.000000  37886.000000  37886.000000   \n",
              "mean      21.622718     15.880528     -1.042503    -13.487490    -13.684642   \n",
              "std       28.117253     20.180937     19.496271     16.666892     14.430377   \n",
              "min      -93.540419    -62.571806    -87.045255    -85.171649    -69.792749   \n",
              "25%        5.133714      2.965418    -12.792023    -23.875479    -22.951902   \n",
              "50%       25.044320     16.886009      0.922169    -12.358283    -13.499190   \n",
              "75%       41.195760     29.109653     12.122717     -2.663565     -4.598831   \n",
              "max      128.544296    101.602920     63.577770     48.241902     47.763101   \n",
              "\n",
              "              mfcc9        mfcc10        mfcc11        mfcc12        mfcc13  \\\n",
              "count  37886.000000  37886.000000  37886.000000  37886.000000  37886.000000   \n",
              "mean      -3.011446     -3.011446      6.805875     -5.322322    -16.383036   \n",
              "std       12.879935     12.879935     10.472131     10.697384     10.708052   \n",
              "min      -69.047173    -69.047173    -38.685697    -50.421765    -59.787976   \n",
              "25%      -10.939784    -10.939784     -0.077188    -12.201285    -23.443778   \n",
              "50%       -2.450114     -2.450114      6.782331     -5.354189    -16.399350   \n",
              "75%        5.539648      5.539648     13.660796      1.555157     -9.507685   \n",
              "max       44.846295     44.846295     88.109551     65.611507     41.799182   \n",
              "\n",
              "       mean_amp_env   std_amp_env  \n",
              "count  37886.000000  37886.000000  \n",
              "mean      -0.000024      0.031073  \n",
              "std        0.006233      0.035154  \n",
              "min       -0.110374      0.000026  \n",
              "25%       -0.000468      0.009234  \n",
              "50%       -0.000045      0.019227  \n",
              "75%        0.000379      0.039286  \n",
              "max        0.202775      0.347762  "
            ],
            "text/html": [
              "\n",
              "  <div id=\"df-71583e3a-9672-4e36-af7c-b4b7ab04a0cd\">\n",
              "    <div class=\"colab-df-container\">\n",
              "      <div>\n",
              "<style scoped>\n",
              "    .dataframe tbody tr th:only-of-type {\n",
              "        vertical-align: middle;\n",
              "    }\n",
              "\n",
              "    .dataframe tbody tr th {\n",
              "        vertical-align: top;\n",
              "    }\n",
              "\n",
              "    .dataframe thead th {\n",
              "        text-align: right;\n",
              "    }\n",
              "</style>\n",
              "<table border=\"1\" class=\"dataframe\">\n",
              "  <thead>\n",
              "    <tr style=\"text-align: right;\">\n",
              "      <th></th>\n",
              "      <th>amplitude_envelope</th>\n",
              "      <th>rms_energy</th>\n",
              "      <th>zero_cross_rate</th>\n",
              "      <th>fundamental_frequency</th>\n",
              "      <th>mfcc1</th>\n",
              "      <th>mfcc2</th>\n",
              "      <th>mfcc3</th>\n",
              "      <th>mfcc4</th>\n",
              "      <th>mfcc5</th>\n",
              "      <th>mfcc6</th>\n",
              "      <th>mfcc7</th>\n",
              "      <th>mfcc8</th>\n",
              "      <th>mfcc9</th>\n",
              "      <th>mfcc10</th>\n",
              "      <th>mfcc11</th>\n",
              "      <th>mfcc12</th>\n",
              "      <th>mfcc13</th>\n",
              "      <th>mean_amp_env</th>\n",
              "      <th>std_amp_env</th>\n",
              "    </tr>\n",
              "  </thead>\n",
              "  <tbody>\n",
              "    <tr>\n",
              "      <th>count</th>\n",
              "      <td>37886.000000</td>\n",
              "      <td>37886.000000</td>\n",
              "      <td>37886.000000</td>\n",
              "      <td>37886.000000</td>\n",
              "      <td>37886.000000</td>\n",
              "      <td>37886.000000</td>\n",
              "      <td>37886.000000</td>\n",
              "      <td>37886.000000</td>\n",
              "      <td>37886.000000</td>\n",
              "      <td>37886.000000</td>\n",
              "      <td>37886.000000</td>\n",
              "      <td>37886.000000</td>\n",
              "      <td>37886.000000</td>\n",
              "      <td>37886.000000</td>\n",
              "      <td>37886.000000</td>\n",
              "      <td>37886.000000</td>\n",
              "      <td>37886.000000</td>\n",
              "      <td>37886.000000</td>\n",
              "      <td>37886.000000</td>\n",
              "    </tr>\n",
              "    <tr>\n",
              "      <th>mean</th>\n",
              "      <td>0.069594</td>\n",
              "      <td>0.031254</td>\n",
              "      <td>0.019004</td>\n",
              "      <td>0.075708</td>\n",
              "      <td>-506.688769</td>\n",
              "      <td>179.680109</td>\n",
              "      <td>54.608581</td>\n",
              "      <td>21.622718</td>\n",
              "      <td>15.880528</td>\n",
              "      <td>-1.042503</td>\n",
              "      <td>-13.487490</td>\n",
              "      <td>-13.684642</td>\n",
              "      <td>-3.011446</td>\n",
              "      <td>-3.011446</td>\n",
              "      <td>6.805875</td>\n",
              "      <td>-5.322322</td>\n",
              "      <td>-16.383036</td>\n",
              "      <td>-0.000024</td>\n",
              "      <td>0.031073</td>\n",
              "    </tr>\n",
              "    <tr>\n",
              "      <th>std</th>\n",
              "      <td>0.078757</td>\n",
              "      <td>0.035519</td>\n",
              "      <td>0.013823</td>\n",
              "      <td>0.152760</td>\n",
              "      <td>80.452283</td>\n",
              "      <td>40.050458</td>\n",
              "      <td>36.521681</td>\n",
              "      <td>28.117253</td>\n",
              "      <td>20.180937</td>\n",
              "      <td>19.496271</td>\n",
              "      <td>16.666892</td>\n",
              "      <td>14.430377</td>\n",
              "      <td>12.879935</td>\n",
              "      <td>12.879935</td>\n",
              "      <td>10.472131</td>\n",
              "      <td>10.697384</td>\n",
              "      <td>10.708052</td>\n",
              "      <td>0.006233</td>\n",
              "      <td>0.035154</td>\n",
              "    </tr>\n",
              "    <tr>\n",
              "      <th>min</th>\n",
              "      <td>-0.025433</td>\n",
              "      <td>0.000018</td>\n",
              "      <td>0.000000</td>\n",
              "      <td>0.000000</td>\n",
              "      <td>-798.133954</td>\n",
              "      <td>0.000000</td>\n",
              "      <td>-102.750671</td>\n",
              "      <td>-93.540419</td>\n",
              "      <td>-62.571806</td>\n",
              "      <td>-87.045255</td>\n",
              "      <td>-85.171649</td>\n",
              "      <td>-69.792749</td>\n",
              "      <td>-69.047173</td>\n",
              "      <td>-69.047173</td>\n",
              "      <td>-38.685697</td>\n",
              "      <td>-50.421765</td>\n",
              "      <td>-59.787976</td>\n",
              "      <td>-0.110374</td>\n",
              "      <td>0.000026</td>\n",
              "    </tr>\n",
              "    <tr>\n",
              "      <th>25%</th>\n",
              "      <td>0.021244</td>\n",
              "      <td>0.009253</td>\n",
              "      <td>0.011111</td>\n",
              "      <td>0.005689</td>\n",
              "      <td>-564.931278</td>\n",
              "      <td>152.221057</td>\n",
              "      <td>30.862197</td>\n",
              "      <td>5.133714</td>\n",
              "      <td>2.965418</td>\n",
              "      <td>-12.792023</td>\n",
              "      <td>-23.875479</td>\n",
              "      <td>-22.951902</td>\n",
              "      <td>-10.939784</td>\n",
              "      <td>-10.939784</td>\n",
              "      <td>-0.077188</td>\n",
              "      <td>-12.201285</td>\n",
              "      <td>-23.443778</td>\n",
              "      <td>-0.000468</td>\n",
              "      <td>0.009234</td>\n",
              "    </tr>\n",
              "    <tr>\n",
              "      <th>50%</th>\n",
              "      <td>0.043545</td>\n",
              "      <td>0.019281</td>\n",
              "      <td>0.015972</td>\n",
              "      <td>0.022340</td>\n",
              "      <td>-510.255621</td>\n",
              "      <td>181.430102</td>\n",
              "      <td>60.370433</td>\n",
              "      <td>25.044320</td>\n",
              "      <td>16.886009</td>\n",
              "      <td>0.922169</td>\n",
              "      <td>-12.358283</td>\n",
              "      <td>-13.499190</td>\n",
              "      <td>-2.450114</td>\n",
              "      <td>-2.450114</td>\n",
              "      <td>6.782331</td>\n",
              "      <td>-5.354189</td>\n",
              "      <td>-16.399350</td>\n",
              "      <td>-0.000045</td>\n",
              "      <td>0.019227</td>\n",
              "    </tr>\n",
              "    <tr>\n",
              "      <th>75%</th>\n",
              "      <td>0.088326</td>\n",
              "      <td>0.039458</td>\n",
              "      <td>0.023611</td>\n",
              "      <td>0.068890</td>\n",
              "      <td>-449.524817</td>\n",
              "      <td>209.349541</td>\n",
              "      <td>82.070110</td>\n",
              "      <td>41.195760</td>\n",
              "      <td>29.109653</td>\n",
              "      <td>12.122717</td>\n",
              "      <td>-2.663565</td>\n",
              "      <td>-4.598831</td>\n",
              "      <td>5.539648</td>\n",
              "      <td>5.539648</td>\n",
              "      <td>13.660796</td>\n",
              "      <td>1.555157</td>\n",
              "      <td>-9.507685</td>\n",
              "      <td>0.000379</td>\n",
              "      <td>0.039286</td>\n",
              "    </tr>\n",
              "    <tr>\n",
              "      <th>max</th>\n",
              "      <td>0.787940</td>\n",
              "      <td>0.347764</td>\n",
              "      <td>0.254861</td>\n",
              "      <td>1.000000</td>\n",
              "      <td>-154.780427</td>\n",
              "      <td>301.366263</td>\n",
              "      <td>142.302260</td>\n",
              "      <td>128.544296</td>\n",
              "      <td>101.602920</td>\n",
              "      <td>63.577770</td>\n",
              "      <td>48.241902</td>\n",
              "      <td>47.763101</td>\n",
              "      <td>44.846295</td>\n",
              "      <td>44.846295</td>\n",
              "      <td>88.109551</td>\n",
              "      <td>65.611507</td>\n",
              "      <td>41.799182</td>\n",
              "      <td>0.202775</td>\n",
              "      <td>0.347762</td>\n",
              "    </tr>\n",
              "  </tbody>\n",
              "</table>\n",
              "</div>\n",
              "      <button class=\"colab-df-convert\" onclick=\"convertToInteractive('df-71583e3a-9672-4e36-af7c-b4b7ab04a0cd')\"\n",
              "              title=\"Convert this dataframe to an interactive table.\"\n",
              "              style=\"display:none;\">\n",
              "        \n",
              "  <svg xmlns=\"http://www.w3.org/2000/svg\" height=\"24px\"viewBox=\"0 0 24 24\"\n",
              "       width=\"24px\">\n",
              "    <path d=\"M0 0h24v24H0V0z\" fill=\"none\"/>\n",
              "    <path d=\"M18.56 5.44l.94 2.06.94-2.06 2.06-.94-2.06-.94-.94-2.06-.94 2.06-2.06.94zm-11 1L8.5 8.5l.94-2.06 2.06-.94-2.06-.94L8.5 2.5l-.94 2.06-2.06.94zm10 10l.94 2.06.94-2.06 2.06-.94-2.06-.94-.94-2.06-.94 2.06-2.06.94z\"/><path d=\"M17.41 7.96l-1.37-1.37c-.4-.4-.92-.59-1.43-.59-.52 0-1.04.2-1.43.59L10.3 9.45l-7.72 7.72c-.78.78-.78 2.05 0 2.83L4 21.41c.39.39.9.59 1.41.59.51 0 1.02-.2 1.41-.59l7.78-7.78 2.81-2.81c.8-.78.8-2.07 0-2.86zM5.41 20L4 18.59l7.72-7.72 1.47 1.35L5.41 20z\"/>\n",
              "  </svg>\n",
              "      </button>\n",
              "      \n",
              "  <style>\n",
              "    .colab-df-container {\n",
              "      display:flex;\n",
              "      flex-wrap:wrap;\n",
              "      gap: 12px;\n",
              "    }\n",
              "\n",
              "    .colab-df-convert {\n",
              "      background-color: #E8F0FE;\n",
              "      border: none;\n",
              "      border-radius: 50%;\n",
              "      cursor: pointer;\n",
              "      display: none;\n",
              "      fill: #1967D2;\n",
              "      height: 32px;\n",
              "      padding: 0 0 0 0;\n",
              "      width: 32px;\n",
              "    }\n",
              "\n",
              "    .colab-df-convert:hover {\n",
              "      background-color: #E2EBFA;\n",
              "      box-shadow: 0px 1px 2px rgba(60, 64, 67, 0.3), 0px 1px 3px 1px rgba(60, 64, 67, 0.15);\n",
              "      fill: #174EA6;\n",
              "    }\n",
              "\n",
              "    [theme=dark] .colab-df-convert {\n",
              "      background-color: #3B4455;\n",
              "      fill: #D2E3FC;\n",
              "    }\n",
              "\n",
              "    [theme=dark] .colab-df-convert:hover {\n",
              "      background-color: #434B5C;\n",
              "      box-shadow: 0px 1px 3px 1px rgba(0, 0, 0, 0.15);\n",
              "      filter: drop-shadow(0px 1px 2px rgba(0, 0, 0, 0.3));\n",
              "      fill: #FFFFFF;\n",
              "    }\n",
              "  </style>\n",
              "\n",
              "      <script>\n",
              "        const buttonEl =\n",
              "          document.querySelector('#df-71583e3a-9672-4e36-af7c-b4b7ab04a0cd button.colab-df-convert');\n",
              "        buttonEl.style.display =\n",
              "          google.colab.kernel.accessAllowed ? 'block' : 'none';\n",
              "\n",
              "        async function convertToInteractive(key) {\n",
              "          const element = document.querySelector('#df-71583e3a-9672-4e36-af7c-b4b7ab04a0cd');\n",
              "          const dataTable =\n",
              "            await google.colab.kernel.invokeFunction('convertToInteractive',\n",
              "                                                     [key], {});\n",
              "          if (!dataTable) return;\n",
              "\n",
              "          const docLinkHtml = 'Like what you see? Visit the ' +\n",
              "            '<a target=\"_blank\" href=https://colab.research.google.com/notebooks/data_table.ipynb>data table notebook</a>'\n",
              "            + ' to learn more about interactive tables.';\n",
              "          element.innerHTML = '';\n",
              "          dataTable['output_type'] = 'display_data';\n",
              "          await google.colab.output.renderOutput(dataTable, element);\n",
              "          const docLink = document.createElement('div');\n",
              "          docLink.innerHTML = docLinkHtml;\n",
              "          element.appendChild(docLink);\n",
              "        }\n",
              "      </script>\n",
              "    </div>\n",
              "  </div>\n",
              "  "
            ]
          },
          "metadata": {},
          "execution_count": 8
        }
      ]
    },
    {
      "cell_type": "code",
      "source": [
        "# importing standard scaler\n",
        "from sklearn.preprocessing import StandardScaler\n",
        "scaler = StandardScaler()"
      ],
      "metadata": {
        "id": "zjz7wxg48UhS"
      },
      "execution_count": 9,
      "outputs": []
    },
    {
      "cell_type": "code",
      "source": [
        "# seperating features and targets from pandas dataframe\n",
        "X = (final_feature_table.drop(columns = ['emotion']))\n",
        "X = X[:].values\n",
        "y = np.array(final_feature_table.loc[:, \"emotion\"])"
      ],
      "metadata": {
        "id": "wPtydwsBRDsL"
      },
      "execution_count": 10,
      "outputs": []
    },
    {
      "cell_type": "code",
      "source": [
        "# fitting data to scaler\n",
        "scaler.fit(X)"
      ],
      "metadata": {
        "colab": {
          "base_uri": "https://localhost:8080/"
        },
        "id": "rUAKNwYLYKsM",
        "outputId": "da3a559a-31fd-4ce4-d7ff-b424411a8907"
      },
      "execution_count": 11,
      "outputs": [
        {
          "output_type": "execute_result",
          "data": {
            "text/plain": [
              "StandardScaler()"
            ]
          },
          "metadata": {},
          "execution_count": 11
        }
      ]
    },
    {
      "cell_type": "code",
      "source": [
        "# transforming data\n",
        "X_train = scaler.transform(X)"
      ],
      "metadata": {
        "id": "6LViXwUlaKLq"
      },
      "execution_count": 12,
      "outputs": []
    },
    {
      "cell_type": "code",
      "source": [
        "print (f\"Shape of X_train is : {X.shape}\")\n",
        "print (f\"Shape of y_train is : {y.shape}\")"
      ],
      "metadata": {
        "colab": {
          "base_uri": "https://localhost:8080/"
        },
        "id": "4lBNQWg-aWGE",
        "outputId": "9a287e5a-3f40-42dc-8245-2ebbc340aaaf"
      },
      "execution_count": 13,
      "outputs": [
        {
          "output_type": "stream",
          "name": "stdout",
          "text": [
            "Shape of X_train is : (37886, 19)\n",
            "Shape of y_train is : (37886,)\n"
          ]
        }
      ]
    },
    {
      "cell_type": "code",
      "source": [
        "# finding categories in target set\n",
        "class_labels = np.unique(y)\n",
        "print (class_labels)"
      ],
      "metadata": {
        "colab": {
          "base_uri": "https://localhost:8080/"
        },
        "id": "FAdbeeY1aX03",
        "outputId": "eb1b90fa-195a-45e9-e107-6f96ea934c3a"
      },
      "execution_count": 14,
      "outputs": [
        {
          "output_type": "stream",
          "name": "stdout",
          "text": [
            "['anger' 'fear' 'happy' 'neutral' 'sad' 'surprise']\n"
          ]
        }
      ]
    },
    {
      "cell_type": "code",
      "source": [
        "# train, teast and split data\n",
        "from sklearn.model_selection import train_test_split\n",
        "# i.e. 70 % training dataset and 30 % test datasets\n",
        "X_train, X_test, y_train, y_test = train_test_split(X, y, test_size = 0.30)"
      ],
      "metadata": {
        "id": "2-FjuArOcHIy"
      },
      "execution_count": 15,
      "outputs": []
    },
    {
      "cell_type": "code",
      "source": [
        "# getting shapes of traing and testing sets\n",
        "print(f\"Shape of X_train is : {X_train.shape}\")\n",
        "print(f\"Shape of y_train is : {y_train.shape}\")\n",
        "print(f\"Shape of X_test is : {X_test.shape}\")\n",
        "print(f\"Shape of y_test is : {y_test.shape}\")"
      ],
      "metadata": {
        "colab": {
          "base_uri": "https://localhost:8080/"
        },
        "id": "94HgLKDMcsWl",
        "outputId": "d8db32f0-09ed-4f5a-f1ca-a6c95fd77dab"
      },
      "execution_count": 16,
      "outputs": [
        {
          "output_type": "stream",
          "name": "stdout",
          "text": [
            "Shape of X_train is : (26520, 19)\n",
            "Shape of y_train is : (26520,)\n",
            "Shape of X_test is : (11366, 19)\n",
            "Shape of y_test is : (11366,)\n"
          ]
        }
      ]
    },
    {
      "cell_type": "markdown",
      "source": [
        "## Random Forest Classifier"
      ],
      "metadata": {
        "id": "4Uhae_Ba6XJ3"
      }
    },
    {
      "cell_type": "code",
      "source": [
        "# using Random Forest Classifier to Classify emotions\n",
        "from sklearn.ensemble import RandomForestClassifier\n",
        "classifier1 = RandomForestClassifier(max_depth = 60, n_estimators = 500)\n",
        "classifier1.fit(X_train, y_train)"
      ],
      "metadata": {
        "colab": {
          "base_uri": "https://localhost:8080/"
        },
        "id": "9x9VEIrXaxZT",
        "outputId": "da56d8a0-707f-4486-cf3a-4c322e4853a6"
      },
      "execution_count": 17,
      "outputs": [
        {
          "output_type": "execute_result",
          "data": {
            "text/plain": [
              "RandomForestClassifier(max_depth=60, n_estimators=500)"
            ]
          },
          "metadata": {},
          "execution_count": 17
        }
      ]
    },
    {
      "cell_type": "code",
      "source": [
        "# performing predictions on the test dataset\n",
        "y_pred_rf = classifier1.predict(X_test)\n",
        "  \n",
        "# metrics are used to find accuracy or error\n",
        "from sklearn import metrics  \n",
        "  \n",
        "# using metrics module for accuracy calculation\n",
        "print(\"ACCURACY OF THE MODEL: \", metrics.accuracy_score(y_test, y_pred_rf))"
      ],
      "metadata": {
        "colab": {
          "base_uri": "https://localhost:8080/"
        },
        "id": "VESlWgx8lSsC",
        "outputId": "3ebd8724-b6de-491f-8090-a3c3c28ab072"
      },
      "execution_count": 18,
      "outputs": [
        {
          "output_type": "stream",
          "name": "stdout",
          "text": [
            "ACCURACY OF THE MODEL:  0.8181418265000879\n"
          ]
        }
      ]
    },
    {
      "cell_type": "code",
      "source": [
        "from sklearn.metrics import classification_report, confusion_matrix\n",
        "\n",
        "#Confution Matrix and Classification Report\n",
        "y_pred = classifier1.predict(X_test)\n",
        "\n",
        "print('Confusion Matrix')\n",
        "print(confusion_matrix(y_test, y_pred))"
      ],
      "metadata": {
        "colab": {
          "base_uri": "https://localhost:8080/"
        },
        "id": "gASwr38HdxAq",
        "outputId": "43ac2e8e-c892-4654-89f7-e70c6b88150a"
      },
      "execution_count": 19,
      "outputs": [
        {
          "output_type": "stream",
          "name": "stdout",
          "text": [
            "Confusion Matrix\n",
            "[[3398    8  128   79   97    2]\n",
            " [  73  877   16   11    9    5]\n",
            " [ 365    4 1403   80   54    6]\n",
            " [ 152    6   82 1590   56    1]\n",
            " [ 329    3  145  104 1567    3]\n",
            " [ 137    5   63   13   31  464]]\n"
          ]
        }
      ]
    },
    {
      "cell_type": "code",
      "source": [
        "# visualizing confusion matrix\n",
        "from sklearn.metrics import ConfusionMatrixDisplay\n",
        "import matplotlib.pyplot as plt\n",
        "from matplotlib.pyplot import figure\n",
        "import numpy as np\n",
        "\n",
        "# calculating confusion matrix\n",
        "conf_mat = confusion_matrix(y_test, y_pred)\n",
        "\n",
        "target_names = class_labels\n",
        "plt.figure(figsize=(100,100))\n",
        "disp = ConfusionMatrixDisplay(confusion_matrix = conf_mat, display_labels = target_names)\n",
        "disp.plot(cmap=plt.cm.Blues)\n",
        "plt.title(\"Confusion Matrix with Random Forest Classifier\")\n",
        "plt.show()"
      ],
      "metadata": {
        "colab": {
          "base_uri": "https://localhost:8080/",
          "height": 312
        },
        "id": "8vP4R8Iaelmw",
        "outputId": "a53f4c09-2cc1-4140-e8a2-04eae1b1b149"
      },
      "execution_count": 20,
      "outputs": [
        {
          "output_type": "display_data",
          "data": {
            "text/plain": [
              "<Figure size 7200x7200 with 0 Axes>"
            ]
          },
          "metadata": {}
        },
        {
          "output_type": "display_data",
          "data": {
            "text/plain": [
              "<Figure size 432x288 with 2 Axes>"
            ],
            "image/png": "[encoded data removed]"
          },
          "metadata": {
            "needs_background": "light"
          }
        }
      ]
    },
    {
      "cell_type": "code",
      "source": [
        "# getting cormalized confusion matrix\n",
        "conf_mat = confusion_matrix(y_test, y_pred)\n",
        "conf_mat = conf_mat.astype('float') / conf_mat.sum(axis=1)[:, np.newaxis]\n",
        "\n",
        "target_names = class_labels\n",
        "plt.figure(figsize=(100,100))\n",
        "disp = ConfusionMatrixDisplay(confusion_matrix = conf_mat, display_labels = target_names)\n",
        "disp.plot(cmap=plt.cm.Blues)\n",
        "plt.title(\"Normalized Confusion Matrix with the Random Forest Classifier\")\n",
        "plt.show()"
      ],
      "metadata": {
        "colab": {
          "base_uri": "https://localhost:8080/",
          "height": 312
        },
        "id": "immJhD59Gej5",
        "outputId": "bfbe9af7-1697-4565-909b-4a570fcc214c"
      },
      "execution_count": 21,
      "outputs": [
        {
          "output_type": "display_data",
          "data": {
            "text/plain": [
              "<Figure size 7200x7200 with 0 Axes>"
            ]
          },
          "metadata": {}
        },
        {
          "output_type": "display_data",
          "data": {
            "text/plain": [
              "<Figure size 432x288 with 2 Axes>"
            ],
            "image/png": "[encoded data removed]"
          },
          "metadata": {
            "needs_background": "light"
          }
        }
      ]
    },
    {
      "cell_type": "code",
      "source": [
        "# calculating cohen's kappa value\n",
        "from sklearn.metrics import cohen_kappa_score\n",
        "score_RF = cohen_kappa_score(y_pred, y_test, labels = class_labels)\n",
        "print(f\"Cohen Kappa Score for Random Forest Classifer is : {score_RF}\")"
      ],
      "metadata": {
        "id": "-GaQX2DKIS4b",
        "colab": {
          "base_uri": "https://localhost:8080/"
        },
        "outputId": "0942271a-bd18-40e0-f13d-835d18a9aff4"
      },
      "execution_count": 22,
      "outputs": [
        {
          "output_type": "stream",
          "name": "stdout",
          "text": [
            "Cohen Kappa Score for Random Forest Classifer is : 0.7661375654528764\n"
          ]
        }
      ]
    },
    {
      "cell_type": "code",
      "source": [
        "# classification report ====> Looking for F1 score - Looking at Imbalanced Dataset\n",
        "from sklearn.metrics import classification_report\n",
        "\n",
        "print('Classification Report for Random Forest Classifier')\n",
        "target_names = class_labels\n",
        "print(classification_report(y_test, y_pred, target_names=target_names))"
      ],
      "metadata": {
        "colab": {
          "base_uri": "https://localhost:8080/"
        },
        "id": "zWI972dW4Wm_",
        "outputId": "cae3a6b7-30d4-49b3-ab43-bed6cd72d784"
      },
      "execution_count": 23,
      "outputs": [
        {
          "output_type": "stream",
          "name": "stdout",
          "text": [
            "Classification Report for Random Forest Classifier\n",
            "              precision    recall  f1-score   support\n",
            "\n",
            "       anger       0.76      0.92      0.83      3712\n",
            "        fear       0.97      0.88      0.93       991\n",
            "       happy       0.76      0.73      0.75      1912\n",
            "     neutral       0.85      0.84      0.84      1887\n",
            "         sad       0.86      0.73      0.79      2151\n",
            "    surprise       0.96      0.65      0.78       713\n",
            "\n",
            "    accuracy                           0.82     11366\n",
            "   macro avg       0.86      0.79      0.82     11366\n",
            "weighted avg       0.83      0.82      0.82     11366\n",
            "\n"
          ]
        }
      ]
    },
    {
      "cell_type": "markdown",
      "source": [
        "## K - Nearest Neighbour Classifier"
      ],
      "metadata": {
        "id": "rO3_leEM6buq"
      }
    },
    {
      "cell_type": "code",
      "source": [
        "# implementing knn calssifier algorithm\n",
        "from sklearn.neighbors import KNeighborsClassifier\n",
        "classifier3 = KNeighborsClassifier(n_neighbors = 4, weights = 'distance', metric = 'minkowski' )"
      ],
      "metadata": {
        "id": "V51gDvBiepy3"
      },
      "execution_count": 24,
      "outputs": []
    },
    {
      "cell_type": "code",
      "source": [
        "classifier3.fit(X_train, y_train)"
      ],
      "metadata": {
        "colab": {
          "base_uri": "https://localhost:8080/"
        },
        "id": "0uERyRldfIh2",
        "outputId": "32741f4d-62e2-4f07-ff36-64486a380081"
      },
      "execution_count": 25,
      "outputs": [
        {
          "output_type": "execute_result",
          "data": {
            "text/plain": [
              "KNeighborsClassifier(n_neighbors=4, weights='distance')"
            ]
          },
          "metadata": {},
          "execution_count": 25
        }
      ]
    },
    {
      "cell_type": "code",
      "source": [
        "# performing predictions on the test dataset\n",
        "y_pred_knn = classifier3.predict(X_test)\n",
        "  \n",
        "# metrics are used to find accuracy or error\n",
        "from sklearn import metrics  \n",
        "  \n",
        "# using metrics module for accuracy calculation\n",
        "print(\"ACCURACY OF THE MODEL: \", metrics.accuracy_score(y_test, y_pred_knn))"
      ],
      "metadata": {
        "colab": {
          "base_uri": "https://localhost:8080/"
        },
        "id": "QbsIyhdxf4ZS",
        "outputId": "a97b5f07-ea29-4cc7-fa45-df0fd4551ba1"
      },
      "execution_count": 26,
      "outputs": [
        {
          "output_type": "stream",
          "name": "stdout",
          "text": [
            "ACCURACY OF THE MODEL:  0.8500791835298258\n"
          ]
        }
      ]
    },
    {
      "cell_type": "code",
      "source": [
        "'''\n",
        "from sklearn.model_selection import GridSearchCV\n",
        "\n",
        "grid_params = { 'n_neighbors' : [3,4,5,7,8,9,11,13,15],\n",
        "               'weights' : ['uniform','distance'],\n",
        "               'metric' : ['minkowski','euclidean','manhattan']}\n",
        "\n",
        "gs = GridSearchCV(KNeighborsClassifier(), grid_params, verbose = 1, cv=3, n_jobs = -1)\n",
        "\n",
        "# fit the model on our train set\n",
        "g_res = gs.fit(X_train, y_train)\n",
        "'''"
      ],
      "metadata": {
        "colab": {
          "base_uri": "https://localhost:8080/",
          "height": 70
        },
        "id": "6CAoQF4mFdHD",
        "outputId": "4b0db793-3f71-49f4-c3f8-bba369c3aaba"
      },
      "execution_count": 27,
      "outputs": [
        {
          "output_type": "execute_result",
          "data": {
            "text/plain": [
              "\"\\nfrom sklearn.model_selection import GridSearchCV\\n\\ngrid_params = { 'n_neighbors' : [3,4,5,7,8,9,11,13,15],\\n               'weights' : ['uniform','distance'],\\n               'metric' : ['minkowski','euclidean','manhattan']}\\n\\ngs = GridSearchCV(KNeighborsClassifier(), grid_params, verbose = 1, cv=3, n_jobs = -1)\\n\\n# fit the model on our train set\\ng_res = gs.fit(X_train, y_train)\\n\""
            ],
            "application/vnd.google.colaboratory.intrinsic+json": {
              "type": "string"
            }
          },
          "metadata": {},
          "execution_count": 27
        }
      ]
    },
    {
      "cell_type": "code",
      "source": [
        "# find the best score\n",
        "#g_res.best_score_"
      ],
      "metadata": {
        "id": "VZM-q_XUFu6N"
      },
      "execution_count": 28,
      "outputs": []
    },
    {
      "cell_type": "code",
      "source": [
        "# get the hyperparameters with the best score\n",
        "#g_res.best_params_"
      ],
      "metadata": {
        "id": "h9C35J6ZFvwL"
      },
      "execution_count": 29,
      "outputs": []
    },
    {
      "cell_type": "code",
      "source": [
        "# visualizing confusion matrix\n",
        "from sklearn.metrics import ConfusionMatrixDisplay\n",
        "import matplotlib.pyplot as plt\n",
        "from matplotlib.pyplot import figure\n",
        "import numpy as np\n",
        "\n",
        "# calculating confusion matrix\n",
        "conf_mat = confusion_matrix(y_test, y_pred_knn)\n",
        "\n",
        "target_names = class_labels\n",
        "plt.figure(figsize=(100,100))\n",
        "disp = ConfusionMatrixDisplay(confusion_matrix = conf_mat, display_labels = target_names)\n",
        "disp.plot(cmap=plt.cm.Blues)\n",
        "plt.title(\"Confusion Matrix with K-Nearest Neighbors Classifier\")\n",
        "plt.show()"
      ],
      "metadata": {
        "colab": {
          "base_uri": "https://localhost:8080/",
          "height": 312
        },
        "id": "RfJMiSwqgOQf",
        "outputId": "263d66d7-ed6c-44d8-c412-864b83b193cb"
      },
      "execution_count": 30,
      "outputs": [
        {
          "output_type": "display_data",
          "data": {
            "text/plain": [
              "<Figure size 7200x7200 with 0 Axes>"
            ]
          },
          "metadata": {}
        },
        {
          "output_type": "display_data",
          "data": {
            "text/plain": [
              "<Figure size 432x288 with 2 Axes>"
            ],
            "image/png": "[encoded data removed]"
          },
          "metadata": {
            "needs_background": "light"
          }
        }
      ]
    },
    {
      "cell_type": "code",
      "source": [
        "# getting cormalized confusion matrix\n",
        "conf_mat = confusion_matrix(y_test, y_pred_knn)\n",
        "conf_mat = conf_mat.astype('float') / conf_mat.sum(axis=1)[:, np.newaxis]\n",
        "\n",
        "target_names = class_labels\n",
        "plt.figure(figsize=(100,100))\n",
        "disp = ConfusionMatrixDisplay(confusion_matrix = conf_mat, display_labels = target_names)\n",
        "disp.plot(cmap=plt.cm.Blues)\n",
        "plt.title(\"Normalized Confusion Matrix with the K-Nearest Neighbors Classifier\")\n",
        "plt.show()"
      ],
      "metadata": {
        "colab": {
          "base_uri": "https://localhost:8080/",
          "height": 312
        },
        "id": "UgmDzwgDgiek",
        "outputId": "ce95181f-8aaa-457b-b5e8-e0e76528615f"
      },
      "execution_count": 31,
      "outputs": [
        {
          "output_type": "display_data",
          "data": {
            "text/plain": [
              "<Figure size 7200x7200 with 0 Axes>"
            ]
          },
          "metadata": {}
        },
        {
          "output_type": "display_data",
          "data": {
            "text/plain": [
              "<Figure size 432x288 with 2 Axes>"
            ],
            "image/png": "[encoded data removed]"
          },
          "metadata": {
            "needs_background": "light"
          }
        }
      ]
    },
    {
      "cell_type": "code",
      "source": [
        "# calculating cohen's kappa value\n",
        "from sklearn.metrics import cohen_kappa_score\n",
        "score_kNN = cohen_kappa_score(y_pred_knn, y_test, labels = class_labels)\n",
        "print(f\"Cohen Kappa Score for kNN Classifer is : {score_kNN}\")"
      ],
      "metadata": {
        "colab": {
          "base_uri": "https://localhost:8080/"
        },
        "id": "iG1P-iQv2BPK",
        "outputId": "39dfaacd-d8dd-4b67-db87-8bba4035369f"
      },
      "execution_count": 32,
      "outputs": [
        {
          "output_type": "stream",
          "name": "stdout",
          "text": [
            "Cohen Kappa Score for kNN Classifer is : 0.81041227431494\n"
          ]
        }
      ]
    },
    {
      "cell_type": "code",
      "source": [
        "# classification report ====> Looking for F1 score - Looking at Imbalanced Dataset\n",
        "from sklearn.metrics import classification_report\n",
        "\n",
        "print('Classification Report for kNN Classifier')\n",
        "target_names = class_labels\n",
        "print(classification_report(y_test, y_pred_knn, target_names=target_names))"
      ],
      "metadata": {
        "colab": {
          "base_uri": "https://localhost:8080/"
        },
        "id": "d2Wt_NOM4DKp",
        "outputId": "c6cdf5d2-fcc1-461a-e2a1-66c3819d8b2d"
      },
      "execution_count": 33,
      "outputs": [
        {
          "output_type": "stream",
          "name": "stdout",
          "text": [
            "Classification Report for kNN Classifier\n",
            "              precision    recall  f1-score   support\n",
            "\n",
            "       anger       0.87      0.86      0.87      3712\n",
            "        fear       0.94      0.94      0.94       991\n",
            "       happy       0.77      0.83      0.80      1912\n",
            "     neutral       0.83      0.87      0.85      1887\n",
            "         sad       0.86      0.80      0.83      2151\n",
            "    surprise       0.86      0.82      0.84       713\n",
            "\n",
            "    accuracy                           0.85     11366\n",
            "   macro avg       0.86      0.85      0.85     11366\n",
            "weighted avg       0.85      0.85      0.85     11366\n",
            "\n"
          ]
        }
      ]
    },
    {
      "cell_type": "markdown",
      "source": [
        "## Voting Classifier"
      ],
      "metadata": {
        "id": "fV5E918A_bKx"
      }
    },
    {
      "cell_type": "code",
      "source": [
        "# building a voting classifier\n",
        "from sklearn.ensemble import VotingClassifier\n",
        "classifier5 = VotingClassifier(\n",
        "    estimators = [('RandomForest', classifier1), ('K-NN', classifier3)],\n",
        "    voting = 'soft'\n",
        ")"
      ],
      "metadata": {
        "id": "PqyB6M_Q5Lfg"
      },
      "execution_count": 34,
      "outputs": []
    },
    {
      "cell_type": "code",
      "source": [
        "# fitting data to voting classifer\n",
        "classifier5.fit(X_train, y_train)"
      ],
      "metadata": {
        "colab": {
          "base_uri": "https://localhost:8080/"
        },
        "id": "dFyKAeRU79c8",
        "outputId": "b769a387-cbb9-4125-c38b-0b1f1bb5db93"
      },
      "execution_count": 35,
      "outputs": [
        {
          "output_type": "execute_result",
          "data": {
            "text/plain": [
              "VotingClassifier(estimators=[('RandomForest',\n",
              "                              RandomForestClassifier(max_depth=60,\n",
              "                                                     n_estimators=500)),\n",
              "                             ('K-NN',\n",
              "                              KNeighborsClassifier(n_neighbors=4,\n",
              "                                                   weights='distance'))],\n",
              "                 voting='soft')"
            ]
          },
          "metadata": {},
          "execution_count": 35
        }
      ]
    },
    {
      "cell_type": "code",
      "source": [
        "# performing predictions on the test dataset\n",
        "y_pred_voting = classifier5.predict(X_test)\n",
        "  \n",
        "# metrics are used to find accuracy or error\n",
        "from sklearn import metrics  \n",
        "  \n",
        "# using metrics module for accuracy calculation\n",
        "print(\"ACCURACY OF THE MODEL: \", metrics.accuracy_score(y_test, y_pred_voting))# performing predictions on the test dataset\n",
        "y_pred_voting = classifier5.predict(X_test)"
      ],
      "metadata": {
        "colab": {
          "base_uri": "https://localhost:8080/"
        },
        "id": "ewuOaldc8Hhv",
        "outputId": "6371ab49-544e-4db2-9263-8dfa5b8ff5e3"
      },
      "execution_count": 36,
      "outputs": [
        {
          "output_type": "stream",
          "name": "stdout",
          "text": [
            "ACCURACY OF THE MODEL:  0.8627485483019532\n"
          ]
        }
      ]
    },
    {
      "cell_type": "code",
      "source": [
        "# visualizing confusion matrix\n",
        "from sklearn.metrics import ConfusionMatrixDisplay\n",
        "import matplotlib.pyplot as plt\n",
        "from matplotlib.pyplot import figure\n",
        "import numpy as np\n",
        "\n",
        "# calculating confusion matrix\n",
        "conf_mat = confusion_matrix(y_test, y_pred_voting)\n",
        "\n",
        "target_names = class_labels\n",
        "plt.figure(figsize=(100,100))\n",
        "disp = ConfusionMatrixDisplay(confusion_matrix = conf_mat, display_labels = target_names)\n",
        "disp.plot(cmap=plt.cm.Blues)\n",
        "plt.title(\"Confusion Matrix with Voting Classifier\")\n",
        "plt.show()"
      ],
      "metadata": {
        "colab": {
          "base_uri": "https://localhost:8080/",
          "height": 312
        },
        "id": "eaw2DMiU8ZMq",
        "outputId": "014326aa-7ddf-4519-fbcf-bafa87a34167"
      },
      "execution_count": 37,
      "outputs": [
        {
          "output_type": "display_data",
          "data": {
            "text/plain": [
              "<Figure size 7200x7200 with 0 Axes>"
            ]
          },
          "metadata": {}
        },
        {
          "output_type": "display_data",
          "data": {
            "text/plain": [
              "<Figure size 432x288 with 2 Axes>"
            ],
            "image/png": "[encoded data removed]"
          },
          "metadata": {
            "needs_background": "light"
          }
        }
      ]
    },
    {
      "cell_type": "code",
      "source": [
        "# getting cormalized confusion matrix\n",
        "conf_mat = confusion_matrix(y_test, y_pred_voting)\n",
        "conf_mat = conf_mat.astype('float') / conf_mat.sum(axis=1)[:, np.newaxis]\n",
        "\n",
        "target_names = class_labels\n",
        "plt.figure(figsize=(100,100))\n",
        "disp = ConfusionMatrixDisplay(confusion_matrix = conf_mat, display_labels = target_names)\n",
        "disp.plot(cmap=plt.cm.Blues)\n",
        "plt.title(\"Normalized Confusion Matrix with the Voting Classifier\")\n",
        "plt.show()"
      ],
      "metadata": {
        "colab": {
          "base_uri": "https://localhost:8080/",
          "height": 312
        },
        "id": "2aIWCpGO9BZJ",
        "outputId": "40cf5c15-a4d6-4a3b-a470-45d7e35ffdb6"
      },
      "execution_count": 38,
      "outputs": [
        {
          "output_type": "display_data",
          "data": {
            "text/plain": [
              "<Figure size 7200x7200 with 0 Axes>"
            ]
          },
          "metadata": {}
        },
        {
          "output_type": "display_data",
          "data": {
            "text/plain": [
              "<Figure size 432x288 with 2 Axes>"
            ],
            "image/png": "[encoded data removed]"
          },
          "metadata": {
            "needs_background": "light"
          }
        }
      ]
    },
    {
      "cell_type": "code",
      "source": [
        "# calculating cohen's kappa value\n",
        "from sklearn.metrics import cohen_kappa_score\n",
        "score_Voting = cohen_kappa_score(y_pred_voting, y_test, labels = class_labels)\n",
        "print(f\"Cohen Kappa Score for Voting Classifer is : {score_Voting}\")"
      ],
      "metadata": {
        "colab": {
          "base_uri": "https://localhost:8080/"
        },
        "id": "INHzkJ0T2Ty5",
        "outputId": "0423c213-c866-4e4b-e83b-043f24ec0626"
      },
      "execution_count": 39,
      "outputs": [
        {
          "output_type": "stream",
          "name": "stdout",
          "text": [
            "Cohen Kappa Score for Voting Classifer is : 0.8256891874398252\n"
          ]
        }
      ]
    },
    {
      "cell_type": "code",
      "source": [
        "# classification report ====> Looking for F1 score - Looking at Imbalanced Dataset\n",
        "from sklearn.metrics import classification_report\n",
        "\n",
        "print('Classification Report for Voting Classifier')\n",
        "target_names = class_labels\n",
        "print(classification_report(y_test, y_pred_voting, target_names=target_names))"
      ],
      "metadata": {
        "colab": {
          "base_uri": "https://localhost:8080/"
        },
        "id": "cNxWBTvU3p3c",
        "outputId": "9c420d90-917b-4d02-f1d0-80e000a277f5"
      },
      "execution_count": 40,
      "outputs": [
        {
          "output_type": "stream",
          "name": "stdout",
          "text": [
            "Classification Report for Voting Classifier\n",
            "              precision    recall  f1-score   support\n",
            "\n",
            "       anger       0.86      0.89      0.88      3712\n",
            "        fear       0.97      0.94      0.95       991\n",
            "       happy       0.79      0.82      0.81      1912\n",
            "     neutral       0.85      0.89      0.87      1887\n",
            "         sad       0.89      0.81      0.85      2151\n",
            "    surprise       0.93      0.80      0.86       713\n",
            "\n",
            "    accuracy                           0.86     11366\n",
            "   macro avg       0.88      0.86      0.87     11366\n",
            "weighted avg       0.86      0.86      0.86     11366\n",
            "\n"
          ]
        }
      ]
    },
    {
      "cell_type": "code",
      "source": [
        "# calculating f1 score of the voting classifier\n",
        "# F1 score is a good metric to evaluate when there are class imbalances in the data set\n",
        "from sklearn.metrics import f1_score\n",
        "f1_score_voting = f1_score(y_test, y_pred_voting, labels = class_labels, average = 'weighted')\n",
        "print (f\"The F1 Score of the Voting Classifier is : {f1_score_voting}\")"
      ],
      "metadata": {
        "colab": {
          "base_uri": "https://localhost:8080/"
        },
        "id": "iBoNhEGZNUMI",
        "outputId": "2efaccc8-c8fd-4a69-f99d-5f1150064eac"
      },
      "execution_count": 41,
      "outputs": [
        {
          "output_type": "stream",
          "name": "stdout",
          "text": [
            "The F1 Score of the Voting Classifier is : 0.8628244278482251\n"
          ]
        }
      ]
    },
    {
      "cell_type": "code",
      "source": [
        "# predict probability of emotion class using the voting classifer\n",
        "example_num = 25\n",
        "example1 = X_test[example_num].reshape(1,-1)\n",
        "pred_prob = classifier5.predict_proba(example1)\n",
        "index1 = np.argmax(pred_prob)\n",
        "print (f\"Example of feautres : {example1}\")\n",
        "print (f\"The predicted probabiities for emotion classes are : {pred_prob}\")\n",
        "print (f\"The actual class of the example is : {y_test[example_num]}\")\n",
        "print (f\"The predicted class of this example is : {class_labels[index1]}\")\n",
        "print (f\"The available emotion classes are : {class_labels}\")"
      ],
      "metadata": {
        "colab": {
          "base_uri": "https://localhost:8080/"
        },
        "id": "P8I3q3ookEQP",
        "outputId": "68c21b4c-9035-493c-b4fa-c09c16b1721b"
      },
      "execution_count": 43,
      "outputs": [
        {
          "output_type": "stream",
          "name": "stdout",
          "text": [
            "Example of feautres : [[ 2.91225549e-01  1.78115428e-01  1.45833330e-02  3.02274350e-02\n",
            "  -3.52110026e+02  2.04093541e+02  4.94944075e+01  1.11570058e+01\n",
            "   1.95991556e+01  1.90549064e+01 -4.74506245e-01 -3.30343242e+01\n",
            "  -2.31655188e+01 -2.31655188e+01 -3.49585953e+00 -1.94763560e+01\n",
            "  -7.26470316e+00 -2.33945800e-03  1.47845883e-01]]\n",
            "The predicted probabiities for emotion classes are : [[0.51495162 0.016      0.1        0.012      0.35104838 0.006     ]]\n",
            "The actual class of the example is : anger\n",
            "The predicted class of this example is : anger\n",
            "The available emotion classes are : ['anger' 'fear' 'happy' 'neutral' 'sad' 'surprise']\n"
          ]
        }
      ]
    },
    {
      "cell_type": "code",
      "source": [
        "import pickle\n",
        "# saving trained RFModel\n",
        "pickle.dump(classifier1, open(\"/content/drive/MyDrive/emotions5/audio_features/RandomForestModel#03.sav\", 'wb'))\n",
        "\n",
        "#saving trained kNN Model\n",
        "pickle.dump(classifier3, open(\"/content/drive/MyDrive/emotions5/audio_features/KNNModel#03.sav\", 'wb'))\n",
        "\n",
        "# saving voting classifier\n",
        "pickle.dump(classifier5, open(\"/content/drive/MyDrive/emotions5/audio_features/VotingClassifierModel#03.sav\", 'wb'))"
      ],
      "metadata": {
        "id": "3h5SoMppmtlB"
      },
      "execution_count": 44,
      "outputs": []
    }
  ]
}